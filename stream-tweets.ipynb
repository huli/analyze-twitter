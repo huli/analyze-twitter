{
 "cells": [
  {
   "cell_type": "markdown",
   "metadata": {},
   "source": [
    "### Analyse some twitter feeds trought streaming api"
   ]
  },
  {
   "cell_type": "code",
   "execution_count": 19,
   "metadata": {
    "collapsed": true
   },
   "outputs": [],
   "source": [
    "# Import very handy library for twitter analysis\n",
    "import tweepy"
   ]
  },
  {
   "cell_type": "code",
   "execution_count": 20,
   "metadata": {
    "collapsed": true
   },
   "outputs": [],
   "source": [
    "# Set the necessary OAuth credentials for the app (anonymized :)\n",
    "access_token = ''\n",
    "access_token_secret = ''\n",
    "consumer_key = ''\n",
    "consumer_secret = ''"
   ]
  },
  {
   "cell_type": "code",
   "execution_count": 21,
   "metadata": {},
   "outputs": [],
   "source": [
    "# Initialize the tweepy handler with the OAuth details\n",
    "auth = tweepy.OAuthHandler(consumer_key, consumer_secret)\n",
    "auth.set_access_token(access_token, access_token_secret)"
   ]
  },
  {
   "cell_type": "code",
   "execution_count": 22,
   "metadata": {
    "collapsed": true
   },
   "outputs": [],
   "source": [
    "# Import naive stream listener\n",
    "from twitter_listener import TwitterStreamListener\n",
    "listener = TwitterStreamListener()"
   ]
  },
  {
   "cell_type": "code",
   "execution_count": 23,
   "metadata": {
    "collapsed": true
   },
   "outputs": [],
   "source": [
    "# Create tweepy stream with authentication\n",
    "stream = tweepy.Stream(auth, listener)"
   ]
  },
  {
   "cell_type": "code",
   "execution_count": 24,
   "metadata": {
    "collapsed": true
   },
   "outputs": [],
   "source": [
    "# Filter some keywords\n",
    "stream.filter(track=['trump','clinton'])"
   ]
  },
  {
   "cell_type": "code",
   "execution_count": 26,
   "metadata": {},
   "outputs": [],
   "source": [
    "# Create a list with the tweets\n",
    "tweets_data = list()\n",
    "with open('tweets.txt', 'r') as tweets_file:\n",
    "    for line in tweets_file:\n",
    "        tweet = json.loads(line)\n",
    "        tweets_data.append(tweet)"
   ]
  },
  {
   "cell_type": "code",
   "execution_count": 27,
   "metadata": {
    "collapsed": true
   },
   "outputs": [],
   "source": [
    "# Create a data frame for simple usage\n",
    "import pandas as pd\n",
    "df = pd.DataFrame(tweets_data, columns=['text','lang'])"
   ]
  },
  {
   "cell_type": "code",
   "execution_count": 29,
   "metadata": {},
   "outputs": [
    {
     "name": "stdout",
     "output_type": "stream",
     "text": [
      "                                                 text lang\n",
      "0   RT @ClaraJeffery: \"when i sent the 12 guys and...   en\n",
      "1   RT @AdamSerwer: Trump on\\n\\nPutin: He didn't d...   en\n",
      "2   YOU ARE ABSOLUTELY RIGHT!!!  THEY ARE A TERROR...   en\n",
      "3   That weird. I never Liked” Hillary Clinton’s F...   en\n",
      "4                                      ...wait. what?   en\n",
      "5   RT @kylegriffin1: Trump on mimicking Christine...   en\n",
      "6   Pay your Bills\\nPay your Bills\\nPay your Bills...   en\n",
      "7   RT @Wiintrr: So you fat shamed another woman a...   en\n",
      "8   RT @ConradMBlack: Let me get this straight. Th...   en\n",
      "9   RT @EdKrassen: BREAKING: CNN reports that the ...   en\n",
      "10  RT @SethAbramson: BREAKING NEWS: Saudi Arabia ...   en\n",
      "11  Maybe the rogue killers are hiding in the base...   en\n",
      "12  RT @benwikler: Today’s the final day to leave ...   en\n",
      "13  RT @NaomiOMy_: And....life in the upside-down ...   en\n",
      "14  RT @b77_sarah: When I see a president coming i...   en\n",
      "15  RT @VABlueBelle18: Please join me in signing a...   en\n",
      "16  RT @OhNoSheTwitnt: Feel free to give Elizabeth...   en\n",
      "17  RT @ChasingOzPhotog: If you call yourself a st...   en\n",
      "18  David Icke: Who Owns Trump? It's Staring Us In...   en\n",
      "19  RT @andylassner: I’m a single issue voter this...   en\n"
     ]
    }
   ],
   "source": [
    "print(df.head(20))"
   ]
  },
  {
   "cell_type": "code",
   "execution_count": null,
   "metadata": {
    "collapsed": true
   },
   "outputs": [],
   "source": []
  }
 ],
 "metadata": {
  "kernelspec": {
   "display_name": "Python 3",
   "language": "python",
   "name": "python3"
  },
  "language_info": {
   "codemirror_mode": {
    "name": "ipython",
    "version": 3
   },
   "file_extension": ".py",
   "mimetype": "text/x-python",
   "name": "python",
   "nbconvert_exporter": "python",
   "pygments_lexer": "ipython3",
   "version": "3.6.2"
  }
 },
 "nbformat": 4,
 "nbformat_minor": 2
}
